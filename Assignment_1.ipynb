{
  "nbformat": 4,
  "nbformat_minor": 0,
  "metadata": {
    "colab": {
      "name": "Assignment_1.ipynb",
      "provenance": []
    },
    "kernelspec": {
      "name": "python3",
      "display_name": "Python 3"
    }
  },
  "cells": [
    {
      "cell_type": "code",
      "metadata": {
        "id": "8n2oqsnRr_E7"
      },
      "source": [
        "import numpy as np"
      ],
      "execution_count": 1,
      "outputs": []
    },
    {
      "cell_type": "markdown",
      "metadata": {
        "id": "ZrNBaANZs-m2"
      },
      "source": [
        "Question1 "
      ]
    },
    {
      "cell_type": "code",
      "metadata": {
        "colab": {
          "base_uri": "https://localhost:8080/"
        },
        "id": "ajCbK1eJtDp6",
        "outputId": "088d79a6-76ff-4bf7-bc17-0d82530e3c76"
      },
      "source": [
        "a = np.float64(0.00001)\r\n",
        "b=np.float(10000)\r\n",
        "c = a+b\r\n",
        "print(f'Tha value of {a}+{b}={c}')"
      ],
      "execution_count": 2,
      "outputs": [
        {
          "output_type": "stream",
          "text": [
            "Tha value of 1e-05+10000.0=10000.00001\n"
          ],
          "name": "stdout"
        }
      ]
    },
    {
      "cell_type": "markdown",
      "metadata": {
        "id": "5s1oVB4muK32"
      },
      "source": [
        "Question2"
      ]
    },
    {
      "cell_type": "code",
      "metadata": {
        "colab": {
          "base_uri": "https://localhost:8080/",
          "height": 52
        },
        "id": "SzIKY7q-uOPD",
        "outputId": "b4b926f1-783a-4304-c0c6-8860602baf67"
      },
      "source": [
        "a=[np.float32(0.000012),np.float64(0.000012)]\r\n",
        "n = 100000\r\n",
        "sum=[np.float32(0.0),np.float64(0.0)]\r\n",
        "\r\n",
        "for j in range(len(a)):\r\n",
        "  for i in range(n):\r\n",
        "    sum[j]=sum[j]+a[j]\r\n",
        "#Error in calcuations\r\n",
        "actualValue = 0.000012*n\r\n",
        "er=[0]*len(a);\r\n",
        "for l in range(len(a)):\r\n",
        "  er[l]=((actualValue-sum[l])*100)/actualValue\r\n",
        "\r\n",
        "f'The result for single precision comes as {sum[0]} with {er[0]}% error, whereas for double precision result comes as {sum[1]} with {er[1]}% error.'\r\n"
      ],
      "execution_count": 19,
      "outputs": [
        {
          "output_type": "execute_result",
          "data": {
            "application/vnd.google.colaboratory.intrinsic+json": {
              "type": "string"
            },
            "text/plain": [
              "'The result for single precision comes as 1.2000337839126587 with -0.0028153260548946513% error, whereas for double precision result comes as 1.199999999999212 with 6.566969190657801e-11% error.'"
            ]
          },
          "metadata": {
            "tags": []
          },
          "execution_count": 19
        }
      ]
    },
    {
      "cell_type": "markdown",
      "metadata": {
        "id": "RXim-wIWyl0D"
      },
      "source": [
        "Question5"
      ]
    },
    {
      "cell_type": "code",
      "metadata": {
        "id": "1X_yEmgeyoVU"
      },
      "source": [
        "def func(n):\r\n",
        "  sum=np.float64(0) #Change 64 to 32 to find single precison\r\n",
        "  for i in range(1,n):\r\n",
        "    sum=sum+np.float32((1/i)**4)\r\n",
        "  return sum"
      ],
      "execution_count": 38,
      "outputs": []
    },
    {
      "cell_type": "code",
      "metadata": {
        "colab": {
          "base_uri": "https://localhost:8080/",
          "height": 35
        },
        "id": "rfC2IxO29OkJ",
        "outputId": "4bafcc2e-a080-47c0-c923-b7d473b2910e"
      },
      "source": [
        "#Error with double precison\r\n",
        "actualResult = (np.pi)**4/90\r\n",
        "err = ((actualResult-func(1000))*100)/actualResult\r\n",
        "f'Error with double precison is {err}%'"
      ],
      "execution_count": 29,
      "outputs": [
        {
          "output_type": "execute_result",
          "data": {
            "application/vnd.google.colaboratory.intrinsic+json": {
              "type": "string"
            },
            "text/plain": [
              "'Error with double precison is 3.0844027246043146e-08%'"
            ]
          },
          "metadata": {
            "tags": []
          },
          "execution_count": 29
        }
      ]
    },
    {
      "cell_type": "code",
      "metadata": {
        "colab": {
          "base_uri": "https://localhost:8080/",
          "height": 35
        },
        "id": "_1jQaIyd-mqa",
        "outputId": "a080397d-28ae-42bb-da20-f6d6c84dd6d4"
      },
      "source": [
        "#Error with single precison\r\n",
        "errSinglePrecison = ((actualResult-func(1000))*100)/actualResult\r\n",
        "f'Error with single precison is {errSinglePrecison}%'"
      ],
      "execution_count": 39,
      "outputs": [
        {
          "output_type": "execute_result",
          "data": {
            "application/vnd.google.colaboratory.intrinsic+json": {
              "type": "string"
            },
            "text/plain": [
              "'Error with single precison is 2.6177805573260737e-08%'"
            ]
          },
          "metadata": {
            "tags": []
          },
          "execution_count": 39
        }
      ]
    },
    {
      "cell_type": "markdown",
      "metadata": {
        "id": "UBWElfK2_8oZ"
      },
      "source": [
        "Question3"
      ]
    },
    {
      "cell_type": "code",
      "metadata": {
        "id": "RzjtIlUZ_7mt"
      },
      "source": [
        ""
      ],
      "execution_count": null,
      "outputs": []
    }
  ]
}